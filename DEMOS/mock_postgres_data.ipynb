{
 "cells": [
  {
   "cell_type": "code",
   "execution_count": 2,
   "metadata": {},
   "outputs": [],
   "source": [
    "from sqlalchemy.engine import URL\n",
    "from sqlalchemy import Column, Integer, String, DateTime, Text, ForeignKey, Uuid, SmallInteger, DECIMAL\n",
    "from sqlalchemy.orm import declarative_base\n",
    "from datetime import datetime\n",
    "from sqlalchemy.orm import sessionmaker\n",
    "from home_security.data.postgresql.database import get_session, create_tables, seed_db\n",
    "from home_security.data.postgresql.models import Household, Camera, ImageSet, IntrusionImage, Detection\n",
    "from home_security.data.storage import StorageDriver\n",
    "from PIL import Image\n",
    "from typing import List\n",
    "from home_security.data.minio.minio_client import Minio\n",
    "import uuid\n",
    "from home_security.data.postgresql.database import Base, engine\n",
    "#STOP !!!! Base.metadata.drop_all(engine) # this deletes all tables !!!\n",
    "minio = Minio(endpoint=\"localhost:9000\", access_key='homesecurity', secret_key='homesecuritybyjohn')\n",
    "session = get_session()\n",
    "create_tables()\n",
    "seed_db()\n",
    "\n",
    "storage_driver = StorageDriver(minio=minio, session=session)"
   ]
  },
  {
   "cell_type": "code",
   "execution_count": 5,
   "metadata": {},
   "outputs": [
    {
     "data": {
      "text/plain": [
       "['denning', 'rectory']"
      ]
     },
     "execution_count": 5,
     "metadata": {},
     "output_type": "execute_result"
    }
   ],
   "source": [
    "households = [house.name for house in session.query(Household).all()]\n",
    "households"
   ]
  },
  {
   "cell_type": "code",
   "execution_count": 6,
   "metadata": {},
   "outputs": [],
   "source": [
    "filename = \"D01-1_20240605104950.jpg\"\n",
    "image = Image.open(f'../dev_images/{filename}')"
   ]
  },
  {
   "cell_type": "code",
   "execution_count": null,
   "metadata": {},
   "outputs": [],
   "source": [
    "storage_driver.add_image_set(images=[image, image, image], camera_id='D02', datetime_str='00000223144502')"
   ]
  },
  {
   "cell_type": "code",
   "execution_count": 10,
   "metadata": {},
   "outputs": [],
   "source": [
    "image_sets = storage_driver.get_uninferenced_image_sets()"
   ]
  }
 ],
 "metadata": {
  "kernelspec": {
   "display_name": "home-security-yKdeGQhL-py3.10",
   "language": "python",
   "name": "python3"
  },
  "language_info": {
   "codemirror_mode": {
    "name": "ipython",
    "version": 3
   },
   "file_extension": ".py",
   "mimetype": "text/x-python",
   "name": "python",
   "nbconvert_exporter": "python",
   "pygments_lexer": "ipython3",
   "version": "3.10.8"
  }
 },
 "nbformat": 4,
 "nbformat_minor": 2
}
