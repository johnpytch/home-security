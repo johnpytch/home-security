{
 "cells": [
  {
   "cell_type": "code",
   "execution_count": 1,
   "metadata": {},
   "outputs": [],
   "source": [
    "from sqlalchemy.engine import URL\n",
    "from sqlalchemy import Column, Integer, String, DateTime, Text, ForeignKey, Uuid, SmallInteger, DECIMAL\n",
    "from sqlalchemy.orm import declarative_base\n",
    "from datetime import datetime\n",
    "from sqlalchemy.orm import sessionmaker\n",
    "from home_security.data.postgresql.database import get_session, create_tables, seed_db\n",
    "from home_security.data.postgresql.models import Household, Camera, ImageSet, IntrusionImage, Detection\n",
    "from home_security.data.storage import StorageDriver\n",
    "from PIL import Image\n",
    "from typing import List\n",
    "from home_security.data.minio.minio_client import Minio\n",
    "import uuid\n",
    "from home_security.data.postgresql.database import Base, engine\n",
    "Base.metadata.drop_all(engine) # this deletes all tables !!!\n",
    "minio = Minio(endpoint=\"localhost:9000\", access_key='homesecurity', secret_key='homesecuritybyjohn')\n",
    "session = get_session()\n",
    "create_tables()\n",
    "seed_db()\n",
    "\n",
    "storage_driver = StorageDriver(minio=minio, session=session)"
   ]
  },
  {
   "cell_type": "code",
   "execution_count": 2,
   "metadata": {},
   "outputs": [],
   "source": [
    "filename = \"D01-1_20240605104950.jpg\"\n",
    "image = Image.open(f'../images/new_images/denning/{filename}')"
   ]
  },
  {
   "cell_type": "code",
   "execution_count": 3,
   "metadata": {},
   "outputs": [],
   "source": [
    "storage_driver.add_image_set(images=[image, image], camera_id='D02', datetime_str='20250223144502')"
   ]
  },
  {
   "cell_type": "code",
   "execution_count": 4,
   "metadata": {},
   "outputs": [],
   "source": [
    "image_sets = storage_driver.get_uninferenced_image_sets()"
   ]
  },
  {
   "cell_type": "code",
   "execution_count": 5,
   "metadata": {},
   "outputs": [
    {
     "data": {
      "text/plain": [
       "[<home_security.data.postgresql.models.ImageSet at 0x285b3822dd0>]"
      ]
     },
     "execution_count": 5,
     "metadata": {},
     "output_type": "execute_result"
    }
   ],
   "source": [
    "image_sets"
   ]
  },
  {
   "cell_type": "code",
   "execution_count": 13,
   "metadata": {},
   "outputs": [],
   "source": [
    "# initialise model\n",
    "from home_security.model import load_model\n",
    "from home_security.inference import inference\n",
    "model, processor = load_model()\n",
    "\n",
    "for image_set in image_sets:\n",
    "    dets_to_register = []\n",
    "    images = storage_driver.get_images_from_set(image_set)\n",
    "    for idx, image in enumerate(images):\n",
    "        detections = inference(\n",
    "            model=model, processor=processor, image=image, min_score=0.001\n",
    "        )\n",
    "        for det in detections:\n",
    "            dets_to_register.append(Detection(image_id=image_set.intrusion_images[idx].id, label=det['label'], confidence=det['score'], x_min=det['box'][0], y_min=det['box'][1], x_max=det['box'][2], y_max=det['box'][3]))\n",
    "    session.add_all(dets_to_register)\n",
    "    session.commit()\n",
    "    image_set.inferenced = True\n"
   ]
  },
  {
   "cell_type": "code",
   "execution_count": 17,
   "metadata": {},
   "outputs": [
    {
     "data": {
      "text/plain": [
       "[<home_security.data.postgresql.models.Detection at 0x285e8bd00a0>,\n",
       " <home_security.data.postgresql.models.Detection at 0x285e8bd0130>,\n",
       " <home_security.data.postgresql.models.Detection at 0x285e8bf4520>,\n",
       " <home_security.data.postgresql.models.Detection at 0x285e8bf45e0>,\n",
       " <home_security.data.postgresql.models.Detection at 0x285e8bf4340>,\n",
       " <home_security.data.postgresql.models.Detection at 0x285e8bf4220>,\n",
       " <home_security.data.postgresql.models.Detection at 0x285e8bd0640>,\n",
       " <home_security.data.postgresql.models.Detection at 0x285e8bd0460>,\n",
       " <home_security.data.postgresql.models.Detection at 0x285e8bd0190>,\n",
       " <home_security.data.postgresql.models.Detection at 0x285e8bd0b20>,\n",
       " <home_security.data.postgresql.models.Detection at 0x285e8bd0550>,\n",
       " <home_security.data.postgresql.models.Detection at 0x285e8bd01c0>]"
      ]
     },
     "execution_count": 17,
     "metadata": {},
     "output_type": "execute_result"
    }
   ],
   "source": [
    "image_sets[0].intrusion_images[1].detections"
   ]
  },
  {
   "cell_type": "code",
   "execution_count": null,
   "metadata": {},
   "outputs": [],
   "source": []
  }
 ],
 "metadata": {
  "kernelspec": {
   "display_name": "home-security-yKdeGQhL-py3.10",
   "language": "python",
   "name": "python3"
  },
  "language_info": {
   "codemirror_mode": {
    "name": "ipython",
    "version": 3
   },
   "file_extension": ".py",
   "mimetype": "text/x-python",
   "name": "python",
   "nbconvert_exporter": "python",
   "pygments_lexer": "ipython3",
   "version": "3.10.8"
  }
 },
 "nbformat": 4,
 "nbformat_minor": 2
}
