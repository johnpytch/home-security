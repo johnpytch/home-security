{
 "cells": [
  {
   "cell_type": "code",
   "execution_count": null,
   "metadata": {},
   "outputs": [],
   "source": [
    "from sqlalchemy.engine import URL\n",
    "from sqlalchemy import Column, Integer, String, DateTime, Text, ForeignKey, Uuid, SmallInteger, DECIMAL\n",
    "from sqlalchemy.orm import declarative_base\n",
    "from datetime import datetime\n",
    "from sqlalchemy.orm import sessionmaker\n",
    "from home_security.data.postgresql.database import get_session, create_tables, seed_db\n",
    "from home_security.data.postgresql.models import Household, Camera, ImageSet, IntrusionImage\n",
    "from PIL import Image\n",
    "from typing import List\n",
    "from home_security.data.minio.minio import Minio\n",
    "import uuid\n",
    "from home_security.data.postgresql.database import Base, engine\n",
    "Base.metadata.drop_all(engine) # this deletes all tables !!!\n",
    "minio = Minio(endpoint=\"localhost:9000\", access_key='homesecurity', secret_key='homesecuritybyjohn')\n"
   ]
  },
  {
   "cell_type": "code",
   "execution_count": null,
   "metadata": {},
   "outputs": [],
   "source": [
    "session = get_session()\n",
    "create_tables()\n",
    "seed_db()"
   ]
  },
  {
   "cell_type": "code",
   "execution_count": 4,
   "metadata": {},
   "outputs": [],
   "source": [
    "filename = \"D01-1_20240605104950.jpg\"\n",
    "image = Image.open(f'../images/new_images/denning/{filename}')"
   ]
  },
  {
   "cell_type": "code",
   "execution_count": 6,
   "metadata": {},
   "outputs": [],
   "source": [
    "seed_db()"
   ]
  },
  {
   "cell_type": "code",
   "execution_count": null,
   "metadata": {},
   "outputs": [],
   "source": [
    "def add_image_set(images: List[Image.Image], camera_id, datetime_str):\n",
    "    datetime_obj = datetime.strptime(datetime_str, \"%Y%m%d%H%M%S\")\n",
    "    match filename[0]:\n",
    "        case 'D':\n",
    "            household_name='denning'\n",
    "        case 'A':\n",
    "            household_name = 'rectory'\n",
    "        case _:\n",
    "            raise Exception(f'Household code not found for recieved image {filename}')\n",
    "        \n",
    "    household_id = session.query(Household).filter(Household.name == household_name).all()[0].id\n",
    "    if not session.get(Camera, camera_id):\n",
    "        print(f'New camera feed detected at {household_name}, adding {camera_id} to DB!')\n",
    "        new_camera = Camera(id=camera_id, household_id=household_id)\n",
    "        session.add(new_camera)\n",
    "        session.commit()\n",
    "    else:\n",
    "        print(f'Got new image for camera {camera_id} at household {household_name}')\n",
    "    \n",
    "    # Use this image set id to create an image set, add all the images as new Image and then upload the images to minio using the image ID as the key.\n",
    "    imgset = ImageSet(received_date=datetime_obj, camera_id=camera_id, inferenced=False)\n",
    "    session.add(imgset)\n",
    "    session.commit()\n",
    "\n",
    "    for image in images:\n",
    "        image_uuid = uuid.uuid4()\n",
    "        image_value = IntrusionImage(imageset_id=imgset.id, id=image_uuid)\n",
    "        session.add(image_value)\n",
    "        session.commit()\n",
    "        # ADD IMAGE TO MINIO WITH THE IMAGE_UUID AS OBJECT NAME\n",
    "        minio.add_image(image=image, image_uuid=str(image_uuid), bucket_name='intrusionimages')\n",
    "        print(f'added image {image_value.id}, of set {image_value.imageset_id}')\n",
    "        "
   ]
  },
  {
   "cell_type": "code",
   "execution_count": 12,
   "metadata": {},
   "outputs": [
    {
     "name": "stdout",
     "output_type": "stream",
     "text": [
      "Got new image for camera D01 at household denning\n",
      "added image e3505bab-8b3a-4f29-bf11-c8f9a6ef32a2, of set 4\n"
     ]
    }
   ],
   "source": [
    "add_image_set(images=[image], camera_id='D01', datetime_str='20250223144702')"
   ]
  }
 ],
 "metadata": {
  "kernelspec": {
   "display_name": "home-security-yKdeGQhL-py3.10",
   "language": "python",
   "name": "python3"
  },
  "language_info": {
   "codemirror_mode": {
    "name": "ipython",
    "version": 3
   },
   "file_extension": ".py",
   "mimetype": "text/x-python",
   "name": "python",
   "nbconvert_exporter": "python",
   "pygments_lexer": "ipython3",
   "version": "3.10.8"
  }
 },
 "nbformat": 4,
 "nbformat_minor": 2
}
